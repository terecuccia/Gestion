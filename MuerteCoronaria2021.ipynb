{
  "nbformat": 4,
  "nbformat_minor": 0,
  "metadata": {
    "kernelspec": {
      "display_name": "Python 3",
      "language": "python",
      "name": "python3"
    },
    "language_info": {
      "codemirror_mode": {
        "name": "ipython",
        "version": 3
      },
      "file_extension": ".py",
      "mimetype": "text/x-python",
      "name": "python",
      "nbconvert_exporter": "python",
      "pygments_lexer": "ipython3",
      "version": "3.7.6"
    },
    "colab": {
      "name": "MuerteCoronaria2021.ipynb",
      "provenance": [],
      "collapsed_sections": [
        "ze2P62BuuSQT",
        "9j_F78UjuSQT",
        "JGqSQMbhuSQU",
        "JIAPPaukuSQU",
        "I-OQhaghuSQV",
        "mIyKHQlFuSQV",
        "aYqE-iX-uSQW",
        "0lPWHhGHuSQX",
        "rgGKeOnzuSQX",
        "VToac_21uSQZ"
      ],
      "toc_visible": true
    }
  },
  "cells": [
    {
      "cell_type": "markdown",
      "metadata": {
        "id": "hE8pIzBpuSQB"
      },
      "source": [
        "# Muerte coronaria 2021\n",
        "\n",
        "## Sistemas de Gestión \n",
        "\n",
        "### Cuccia, Teresita\n"
      ]
    },
    {
      "cell_type": "markdown",
      "metadata": {
        "id": "mP23Ig53uSQI"
      },
      "source": [
        "#### Importamos las librerias necesarias"
      ]
    },
    {
      "cell_type": "code",
      "metadata": {
        "id": "mDraGxa7un8D"
      },
      "source": [
        ""
      ],
      "execution_count": null,
      "outputs": []
    },
    {
      "cell_type": "code",
      "metadata": {
        "id": "Aw-vc3FPuSQJ"
      },
      "source": [
        "import numpy as np\n",
        "import pandas as pd\n",
        "from sklearn import tree\n",
        "from sklearn.model_selection import train_test_split\n",
        "from sklearn import metrics\n",
        "\n",
        "from sklearn.metrics import confusion_matrix\n",
        "from sklearn.metrics import accuracy_score\n",
        "from sklearn.metrics import precision_score\n",
        "from sklearn.metrics import recall_score\n",
        "from sklearn.metrics import f1_score\n",
        "\n",
        "from sklearn.metrics import classification_report\n",
        "import matplotlib.pyplot as plt  \n",
        "import seaborn as sns\n",
        "\n",
        "from sklearn.metrics import cohen_kappa_score\n",
        "\n",
        "from sklearn import model_selection\n",
        "from sklearn.model_selection import KFold\n",
        "from sklearn.model_selection import LeaveOneOut\n",
        "from sklearn.model_selection import LeavePOut\n",
        "from sklearn.model_selection import ShuffleSplit\n",
        "from sklearn.model_selection import StratifiedKFold"
      ],
      "execution_count": 1,
      "outputs": []
    },
    {
      "cell_type": "markdown",
      "metadata": {
        "id": "ZkTSX2L2uSQL"
      },
      "source": [
        "#### Definimos índice general y precisión"
      ]
    },
    {
      "cell_type": "code",
      "metadata": {
        "id": "aeBSFkL1uSQL"
      },
      "source": [
        "def indices_general (MC,nombres=None):\n",
        "    precision_global=np.sum(MC.diagonal())/np.sum(MC)\n",
        "    error_global=1-precision_global\n",
        "    \n",
        "    precision_categoria=pd.DataFrame(MC.diagonal()/np.sum(MC,axis=1)).T\n",
        "    if nombres!=None:\n",
        "        precision_categoria.columns=nombres\n",
        "    return {\"Matriz de Confusión\":MC,\n",
        "           \"Precision Global\":precision_global,\n",
        "           \"Error Global\":error_global,\n",
        "           \"Precisión por categoría\":precision_categoria}"
      ],
      "execution_count": 2,
      "outputs": []
    },
    {
      "cell_type": "markdown",
      "metadata": {
        "id": "qAhY8LmJuSQN"
      },
      "source": [
        "#### Importamos los datos de prueba provenientes de un archivo CSV"
      ]
    },
    {
      "cell_type": "code",
      "metadata": {
        "colab": {
          "base_uri": "https://localhost:8080/",
          "height": 408
        },
        "id": "KjHZATm3uSQN",
        "outputId": "ec87b5ca-1f8f-4368-d2b5-c56a5dc4f7e2"
      },
      "source": [
        "datos= pd.read_csv('data/datos_train_test_sh.csv',delimiter=',',decimal='.')\n",
        "type(datos)\n",
        "datos.dtypes"
      ],
      "execution_count": 3,
      "outputs": [
        {
          "output_type": "error",
          "ename": "FileNotFoundError",
          "evalue": "ignored",
          "traceback": [
            "\u001b[0;31m---------------------------------------------------------------------------\u001b[0m",
            "\u001b[0;31mFileNotFoundError\u001b[0m                         Traceback (most recent call last)",
            "\u001b[0;32m<ipython-input-3-e097670cada9>\u001b[0m in \u001b[0;36m<module>\u001b[0;34m()\u001b[0m\n\u001b[0;32m----> 1\u001b[0;31m \u001b[0mdatos\u001b[0m\u001b[0;34m=\u001b[0m \u001b[0mpd\u001b[0m\u001b[0;34m.\u001b[0m\u001b[0mread_csv\u001b[0m\u001b[0;34m(\u001b[0m\u001b[0;34m'data/datos_train_test_sh.csv'\u001b[0m\u001b[0;34m,\u001b[0m\u001b[0mdelimiter\u001b[0m\u001b[0;34m=\u001b[0m\u001b[0;34m','\u001b[0m\u001b[0;34m,\u001b[0m\u001b[0mdecimal\u001b[0m\u001b[0;34m=\u001b[0m\u001b[0;34m'.'\u001b[0m\u001b[0;34m)\u001b[0m\u001b[0;34m\u001b[0m\u001b[0;34m\u001b[0m\u001b[0m\n\u001b[0m\u001b[1;32m      2\u001b[0m \u001b[0mtype\u001b[0m\u001b[0;34m(\u001b[0m\u001b[0mdatos\u001b[0m\u001b[0;34m)\u001b[0m\u001b[0;34m\u001b[0m\u001b[0;34m\u001b[0m\u001b[0m\n\u001b[1;32m      3\u001b[0m \u001b[0mdatos\u001b[0m\u001b[0;34m.\u001b[0m\u001b[0mdtypes\u001b[0m\u001b[0;34m\u001b[0m\u001b[0;34m\u001b[0m\u001b[0m\n",
            "\u001b[0;32m/usr/local/lib/python3.7/dist-packages/pandas/io/parsers.py\u001b[0m in \u001b[0;36mread_csv\u001b[0;34m(filepath_or_buffer, sep, delimiter, header, names, index_col, usecols, squeeze, prefix, mangle_dupe_cols, dtype, engine, converters, true_values, false_values, skipinitialspace, skiprows, skipfooter, nrows, na_values, keep_default_na, na_filter, verbose, skip_blank_lines, parse_dates, infer_datetime_format, keep_date_col, date_parser, dayfirst, cache_dates, iterator, chunksize, compression, thousands, decimal, lineterminator, quotechar, quoting, doublequote, escapechar, comment, encoding, dialect, error_bad_lines, warn_bad_lines, delim_whitespace, low_memory, memory_map, float_precision)\u001b[0m\n\u001b[1;32m    686\u001b[0m     )\n\u001b[1;32m    687\u001b[0m \u001b[0;34m\u001b[0m\u001b[0m\n\u001b[0;32m--> 688\u001b[0;31m     \u001b[0;32mreturn\u001b[0m \u001b[0m_read\u001b[0m\u001b[0;34m(\u001b[0m\u001b[0mfilepath_or_buffer\u001b[0m\u001b[0;34m,\u001b[0m \u001b[0mkwds\u001b[0m\u001b[0;34m)\u001b[0m\u001b[0;34m\u001b[0m\u001b[0;34m\u001b[0m\u001b[0m\n\u001b[0m\u001b[1;32m    689\u001b[0m \u001b[0;34m\u001b[0m\u001b[0m\n\u001b[1;32m    690\u001b[0m \u001b[0;34m\u001b[0m\u001b[0m\n",
            "\u001b[0;32m/usr/local/lib/python3.7/dist-packages/pandas/io/parsers.py\u001b[0m in \u001b[0;36m_read\u001b[0;34m(filepath_or_buffer, kwds)\u001b[0m\n\u001b[1;32m    452\u001b[0m \u001b[0;34m\u001b[0m\u001b[0m\n\u001b[1;32m    453\u001b[0m     \u001b[0;31m# Create the parser.\u001b[0m\u001b[0;34m\u001b[0m\u001b[0;34m\u001b[0m\u001b[0;34m\u001b[0m\u001b[0m\n\u001b[0;32m--> 454\u001b[0;31m     \u001b[0mparser\u001b[0m \u001b[0;34m=\u001b[0m \u001b[0mTextFileReader\u001b[0m\u001b[0;34m(\u001b[0m\u001b[0mfp_or_buf\u001b[0m\u001b[0;34m,\u001b[0m \u001b[0;34m**\u001b[0m\u001b[0mkwds\u001b[0m\u001b[0;34m)\u001b[0m\u001b[0;34m\u001b[0m\u001b[0;34m\u001b[0m\u001b[0m\n\u001b[0m\u001b[1;32m    455\u001b[0m \u001b[0;34m\u001b[0m\u001b[0m\n\u001b[1;32m    456\u001b[0m     \u001b[0;32mif\u001b[0m \u001b[0mchunksize\u001b[0m \u001b[0;32mor\u001b[0m \u001b[0miterator\u001b[0m\u001b[0;34m:\u001b[0m\u001b[0;34m\u001b[0m\u001b[0;34m\u001b[0m\u001b[0m\n",
            "\u001b[0;32m/usr/local/lib/python3.7/dist-packages/pandas/io/parsers.py\u001b[0m in \u001b[0;36m__init__\u001b[0;34m(self, f, engine, **kwds)\u001b[0m\n\u001b[1;32m    946\u001b[0m             \u001b[0mself\u001b[0m\u001b[0;34m.\u001b[0m\u001b[0moptions\u001b[0m\u001b[0;34m[\u001b[0m\u001b[0;34m\"has_index_names\"\u001b[0m\u001b[0;34m]\u001b[0m \u001b[0;34m=\u001b[0m \u001b[0mkwds\u001b[0m\u001b[0;34m[\u001b[0m\u001b[0;34m\"has_index_names\"\u001b[0m\u001b[0;34m]\u001b[0m\u001b[0;34m\u001b[0m\u001b[0;34m\u001b[0m\u001b[0m\n\u001b[1;32m    947\u001b[0m \u001b[0;34m\u001b[0m\u001b[0m\n\u001b[0;32m--> 948\u001b[0;31m         \u001b[0mself\u001b[0m\u001b[0;34m.\u001b[0m\u001b[0m_make_engine\u001b[0m\u001b[0;34m(\u001b[0m\u001b[0mself\u001b[0m\u001b[0;34m.\u001b[0m\u001b[0mengine\u001b[0m\u001b[0;34m)\u001b[0m\u001b[0;34m\u001b[0m\u001b[0;34m\u001b[0m\u001b[0m\n\u001b[0m\u001b[1;32m    949\u001b[0m \u001b[0;34m\u001b[0m\u001b[0m\n\u001b[1;32m    950\u001b[0m     \u001b[0;32mdef\u001b[0m \u001b[0mclose\u001b[0m\u001b[0;34m(\u001b[0m\u001b[0mself\u001b[0m\u001b[0;34m)\u001b[0m\u001b[0;34m:\u001b[0m\u001b[0;34m\u001b[0m\u001b[0;34m\u001b[0m\u001b[0m\n",
            "\u001b[0;32m/usr/local/lib/python3.7/dist-packages/pandas/io/parsers.py\u001b[0m in \u001b[0;36m_make_engine\u001b[0;34m(self, engine)\u001b[0m\n\u001b[1;32m   1178\u001b[0m     \u001b[0;32mdef\u001b[0m \u001b[0m_make_engine\u001b[0m\u001b[0;34m(\u001b[0m\u001b[0mself\u001b[0m\u001b[0;34m,\u001b[0m \u001b[0mengine\u001b[0m\u001b[0;34m=\u001b[0m\u001b[0;34m\"c\"\u001b[0m\u001b[0;34m)\u001b[0m\u001b[0;34m:\u001b[0m\u001b[0;34m\u001b[0m\u001b[0;34m\u001b[0m\u001b[0m\n\u001b[1;32m   1179\u001b[0m         \u001b[0;32mif\u001b[0m \u001b[0mengine\u001b[0m \u001b[0;34m==\u001b[0m \u001b[0;34m\"c\"\u001b[0m\u001b[0;34m:\u001b[0m\u001b[0;34m\u001b[0m\u001b[0;34m\u001b[0m\u001b[0m\n\u001b[0;32m-> 1180\u001b[0;31m             \u001b[0mself\u001b[0m\u001b[0;34m.\u001b[0m\u001b[0m_engine\u001b[0m \u001b[0;34m=\u001b[0m \u001b[0mCParserWrapper\u001b[0m\u001b[0;34m(\u001b[0m\u001b[0mself\u001b[0m\u001b[0;34m.\u001b[0m\u001b[0mf\u001b[0m\u001b[0;34m,\u001b[0m \u001b[0;34m**\u001b[0m\u001b[0mself\u001b[0m\u001b[0;34m.\u001b[0m\u001b[0moptions\u001b[0m\u001b[0;34m)\u001b[0m\u001b[0;34m\u001b[0m\u001b[0;34m\u001b[0m\u001b[0m\n\u001b[0m\u001b[1;32m   1181\u001b[0m         \u001b[0;32melse\u001b[0m\u001b[0;34m:\u001b[0m\u001b[0;34m\u001b[0m\u001b[0;34m\u001b[0m\u001b[0m\n\u001b[1;32m   1182\u001b[0m             \u001b[0;32mif\u001b[0m \u001b[0mengine\u001b[0m \u001b[0;34m==\u001b[0m \u001b[0;34m\"python\"\u001b[0m\u001b[0;34m:\u001b[0m\u001b[0;34m\u001b[0m\u001b[0;34m\u001b[0m\u001b[0m\n",
            "\u001b[0;32m/usr/local/lib/python3.7/dist-packages/pandas/io/parsers.py\u001b[0m in \u001b[0;36m__init__\u001b[0;34m(self, src, **kwds)\u001b[0m\n\u001b[1;32m   2008\u001b[0m         \u001b[0mkwds\u001b[0m\u001b[0;34m[\u001b[0m\u001b[0;34m\"usecols\"\u001b[0m\u001b[0;34m]\u001b[0m \u001b[0;34m=\u001b[0m \u001b[0mself\u001b[0m\u001b[0;34m.\u001b[0m\u001b[0musecols\u001b[0m\u001b[0;34m\u001b[0m\u001b[0;34m\u001b[0m\u001b[0m\n\u001b[1;32m   2009\u001b[0m \u001b[0;34m\u001b[0m\u001b[0m\n\u001b[0;32m-> 2010\u001b[0;31m         \u001b[0mself\u001b[0m\u001b[0;34m.\u001b[0m\u001b[0m_reader\u001b[0m \u001b[0;34m=\u001b[0m \u001b[0mparsers\u001b[0m\u001b[0;34m.\u001b[0m\u001b[0mTextReader\u001b[0m\u001b[0;34m(\u001b[0m\u001b[0msrc\u001b[0m\u001b[0;34m,\u001b[0m \u001b[0;34m**\u001b[0m\u001b[0mkwds\u001b[0m\u001b[0;34m)\u001b[0m\u001b[0;34m\u001b[0m\u001b[0;34m\u001b[0m\u001b[0m\n\u001b[0m\u001b[1;32m   2011\u001b[0m         \u001b[0mself\u001b[0m\u001b[0;34m.\u001b[0m\u001b[0munnamed_cols\u001b[0m \u001b[0;34m=\u001b[0m \u001b[0mself\u001b[0m\u001b[0;34m.\u001b[0m\u001b[0m_reader\u001b[0m\u001b[0;34m.\u001b[0m\u001b[0munnamed_cols\u001b[0m\u001b[0;34m\u001b[0m\u001b[0;34m\u001b[0m\u001b[0m\n\u001b[1;32m   2012\u001b[0m \u001b[0;34m\u001b[0m\u001b[0m\n",
            "\u001b[0;32mpandas/_libs/parsers.pyx\u001b[0m in \u001b[0;36mpandas._libs.parsers.TextReader.__cinit__\u001b[0;34m()\u001b[0m\n",
            "\u001b[0;32mpandas/_libs/parsers.pyx\u001b[0m in \u001b[0;36mpandas._libs.parsers.TextReader._setup_parser_source\u001b[0;34m()\u001b[0m\n",
            "\u001b[0;31mFileNotFoundError\u001b[0m: [Errno 2] No such file or directory: 'data/datos_train_test_sh.csv'"
          ]
        }
      ]
    },
    {
      "cell_type": "code",
      "metadata": {
        "id": "WVAJL84DuSQP",
        "outputId": "538af963-24e0-4969-db74-12366a533658"
      },
      "source": [
        "datos.shape"
      ],
      "execution_count": null,
      "outputs": [
        {
          "output_type": "execute_result",
          "data": {
            "text/plain": [
              "(346, 11)"
            ]
          },
          "metadata": {
            "tags": []
          },
          "execution_count": 4
        }
      ]
    },
    {
      "cell_type": "code",
      "metadata": {
        "id": "7Sg2e1kAuSQP",
        "outputId": "af165068-8faa-4fcd-dde7-13c8eb2f0fb3"
      },
      "source": [
        "datos.head(2)"
      ],
      "execution_count": null,
      "outputs": [
        {
          "output_type": "execute_result",
          "data": {
            "text/html": [
              "<div>\n",
              "<style scoped>\n",
              "    .dataframe tbody tr th:only-of-type {\n",
              "        vertical-align: middle;\n",
              "    }\n",
              "\n",
              "    .dataframe tbody tr th {\n",
              "        vertical-align: top;\n",
              "    }\n",
              "\n",
              "    .dataframe thead th {\n",
              "        text-align: right;\n",
              "    }\n",
              "</style>\n",
              "<table border=\"1\" class=\"dataframe\">\n",
              "  <thead>\n",
              "    <tr style=\"text-align: right;\">\n",
              "      <th></th>\n",
              "      <th>id</th>\n",
              "      <th>sbp</th>\n",
              "      <th>tobacco</th>\n",
              "      <th>ldl</th>\n",
              "      <th>adiposity</th>\n",
              "      <th>famhist</th>\n",
              "      <th>typea</th>\n",
              "      <th>obesity</th>\n",
              "      <th>alcohol</th>\n",
              "      <th>age</th>\n",
              "      <th>class</th>\n",
              "    </tr>\n",
              "  </thead>\n",
              "  <tbody>\n",
              "    <tr>\n",
              "      <th>0</th>\n",
              "      <td>0</td>\n",
              "      <td>154</td>\n",
              "      <td>4.50</td>\n",
              "      <td>4.75</td>\n",
              "      <td>23.52</td>\n",
              "      <td>Present</td>\n",
              "      <td>43</td>\n",
              "      <td>25.76</td>\n",
              "      <td>0.0</td>\n",
              "      <td>53</td>\n",
              "      <td>1</td>\n",
              "    </tr>\n",
              "    <tr>\n",
              "      <th>1</th>\n",
              "      <td>1</td>\n",
              "      <td>124</td>\n",
              "      <td>1.04</td>\n",
              "      <td>2.84</td>\n",
              "      <td>16.42</td>\n",
              "      <td>Present</td>\n",
              "      <td>46</td>\n",
              "      <td>20.17</td>\n",
              "      <td>0.0</td>\n",
              "      <td>61</td>\n",
              "      <td>0</td>\n",
              "    </tr>\n",
              "  </tbody>\n",
              "</table>\n",
              "</div>"
            ],
            "text/plain": [
              "   id  sbp  tobacco   ldl  adiposity  famhist  typea  obesity  alcohol  age  \\\n",
              "0   0  154     4.50  4.75      23.52  Present     43    25.76      0.0   53   \n",
              "1   1  124     1.04  2.84      16.42  Present     46    20.17      0.0   61   \n",
              "\n",
              "   class  \n",
              "0      1  \n",
              "1      0  "
            ]
          },
          "metadata": {
            "tags": []
          },
          "execution_count": 5
        }
      ]
    },
    {
      "cell_type": "markdown",
      "metadata": {
        "id": "Uow9KUARuSQQ"
      },
      "source": [
        "#### Retiramos el id "
      ]
    },
    {
      "cell_type": "code",
      "metadata": {
        "scrolled": true,
        "id": "uDBrBdSguSQQ",
        "outputId": "35078d4a-9d62-4859-babd-05b8d6a542b7"
      },
      "source": [
        "datos=datos.iloc[0:,1:]\n",
        "datos.head(3)"
      ],
      "execution_count": null,
      "outputs": [
        {
          "output_type": "execute_result",
          "data": {
            "text/html": [
              "<div>\n",
              "<style scoped>\n",
              "    .dataframe tbody tr th:only-of-type {\n",
              "        vertical-align: middle;\n",
              "    }\n",
              "\n",
              "    .dataframe tbody tr th {\n",
              "        vertical-align: top;\n",
              "    }\n",
              "\n",
              "    .dataframe thead th {\n",
              "        text-align: right;\n",
              "    }\n",
              "</style>\n",
              "<table border=\"1\" class=\"dataframe\">\n",
              "  <thead>\n",
              "    <tr style=\"text-align: right;\">\n",
              "      <th></th>\n",
              "      <th>sbp</th>\n",
              "      <th>tobacco</th>\n",
              "      <th>ldl</th>\n",
              "      <th>adiposity</th>\n",
              "      <th>famhist</th>\n",
              "      <th>typea</th>\n",
              "      <th>obesity</th>\n",
              "      <th>alcohol</th>\n",
              "      <th>age</th>\n",
              "      <th>class</th>\n",
              "    </tr>\n",
              "  </thead>\n",
              "  <tbody>\n",
              "    <tr>\n",
              "      <th>0</th>\n",
              "      <td>154</td>\n",
              "      <td>4.50</td>\n",
              "      <td>4.75</td>\n",
              "      <td>23.52</td>\n",
              "      <td>Present</td>\n",
              "      <td>43</td>\n",
              "      <td>25.76</td>\n",
              "      <td>0.0</td>\n",
              "      <td>53</td>\n",
              "      <td>1</td>\n",
              "    </tr>\n",
              "    <tr>\n",
              "      <th>1</th>\n",
              "      <td>124</td>\n",
              "      <td>1.04</td>\n",
              "      <td>2.84</td>\n",
              "      <td>16.42</td>\n",
              "      <td>Present</td>\n",
              "      <td>46</td>\n",
              "      <td>20.17</td>\n",
              "      <td>0.0</td>\n",
              "      <td>61</td>\n",
              "      <td>0</td>\n",
              "    </tr>\n",
              "    <tr>\n",
              "      <th>2</th>\n",
              "      <td>148</td>\n",
              "      <td>12.20</td>\n",
              "      <td>3.79</td>\n",
              "      <td>34.15</td>\n",
              "      <td>Absent</td>\n",
              "      <td>57</td>\n",
              "      <td>26.38</td>\n",
              "      <td>14.4</td>\n",
              "      <td>57</td>\n",
              "      <td>1</td>\n",
              "    </tr>\n",
              "  </tbody>\n",
              "</table>\n",
              "</div>"
            ],
            "text/plain": [
              "   sbp  tobacco   ldl  adiposity  famhist  typea  obesity  alcohol  age  class\n",
              "0  154     4.50  4.75      23.52  Present     43    25.76      0.0   53      1\n",
              "1  124     1.04  2.84      16.42  Present     46    20.17      0.0   61      0\n",
              "2  148    12.20  3.79      34.15   Absent     57    26.38     14.4   57      1"
            ]
          },
          "metadata": {
            "tags": []
          },
          "execution_count": 6
        }
      ]
    },
    {
      "cell_type": "markdown",
      "metadata": {
        "id": "qwuHiG2BuSQR"
      },
      "source": [
        "#### Función utilitaria que nos permite reemplazar los valores PRESENT y ABSENT por 0 y 1"
      ]
    },
    {
      "cell_type": "code",
      "metadata": {
        "id": "2AKV-nNTuSQR",
        "outputId": "8da9cd2a-5f0d-437a-9510-edbf57c50c2f"
      },
      "source": [
        "datos2 = datos.replace({\"Present\":1,\"Absent\":0})\n",
        "datos2"
      ],
      "execution_count": null,
      "outputs": [
        {
          "output_type": "execute_result",
          "data": {
            "text/html": [
              "<div>\n",
              "<style scoped>\n",
              "    .dataframe tbody tr th:only-of-type {\n",
              "        vertical-align: middle;\n",
              "    }\n",
              "\n",
              "    .dataframe tbody tr th {\n",
              "        vertical-align: top;\n",
              "    }\n",
              "\n",
              "    .dataframe thead th {\n",
              "        text-align: right;\n",
              "    }\n",
              "</style>\n",
              "<table border=\"1\" class=\"dataframe\">\n",
              "  <thead>\n",
              "    <tr style=\"text-align: right;\">\n",
              "      <th></th>\n",
              "      <th>sbp</th>\n",
              "      <th>tobacco</th>\n",
              "      <th>ldl</th>\n",
              "      <th>adiposity</th>\n",
              "      <th>famhist</th>\n",
              "      <th>typea</th>\n",
              "      <th>obesity</th>\n",
              "      <th>alcohol</th>\n",
              "      <th>age</th>\n",
              "      <th>class</th>\n",
              "    </tr>\n",
              "  </thead>\n",
              "  <tbody>\n",
              "    <tr>\n",
              "      <th>0</th>\n",
              "      <td>154</td>\n",
              "      <td>4.50</td>\n",
              "      <td>4.75</td>\n",
              "      <td>23.52</td>\n",
              "      <td>1</td>\n",
              "      <td>43</td>\n",
              "      <td>25.76</td>\n",
              "      <td>0.00</td>\n",
              "      <td>53</td>\n",
              "      <td>1</td>\n",
              "    </tr>\n",
              "    <tr>\n",
              "      <th>1</th>\n",
              "      <td>124</td>\n",
              "      <td>1.04</td>\n",
              "      <td>2.84</td>\n",
              "      <td>16.42</td>\n",
              "      <td>1</td>\n",
              "      <td>46</td>\n",
              "      <td>20.17</td>\n",
              "      <td>0.00</td>\n",
              "      <td>61</td>\n",
              "      <td>0</td>\n",
              "    </tr>\n",
              "    <tr>\n",
              "      <th>2</th>\n",
              "      <td>148</td>\n",
              "      <td>12.20</td>\n",
              "      <td>3.79</td>\n",
              "      <td>34.15</td>\n",
              "      <td>0</td>\n",
              "      <td>57</td>\n",
              "      <td>26.38</td>\n",
              "      <td>14.40</td>\n",
              "      <td>57</td>\n",
              "      <td>1</td>\n",
              "    </tr>\n",
              "    <tr>\n",
              "      <th>3</th>\n",
              "      <td>110</td>\n",
              "      <td>4.64</td>\n",
              "      <td>4.55</td>\n",
              "      <td>30.46</td>\n",
              "      <td>0</td>\n",
              "      <td>48</td>\n",
              "      <td>30.90</td>\n",
              "      <td>15.22</td>\n",
              "      <td>46</td>\n",
              "      <td>0</td>\n",
              "    </tr>\n",
              "    <tr>\n",
              "      <th>4</th>\n",
              "      <td>164</td>\n",
              "      <td>0.50</td>\n",
              "      <td>6.95</td>\n",
              "      <td>39.64</td>\n",
              "      <td>1</td>\n",
              "      <td>47</td>\n",
              "      <td>41.76</td>\n",
              "      <td>3.81</td>\n",
              "      <td>46</td>\n",
              "      <td>1</td>\n",
              "    </tr>\n",
              "    <tr>\n",
              "      <th>...</th>\n",
              "      <td>...</td>\n",
              "      <td>...</td>\n",
              "      <td>...</td>\n",
              "      <td>...</td>\n",
              "      <td>...</td>\n",
              "      <td>...</td>\n",
              "      <td>...</td>\n",
              "      <td>...</td>\n",
              "      <td>...</td>\n",
              "      <td>...</td>\n",
              "    </tr>\n",
              "    <tr>\n",
              "      <th>341</th>\n",
              "      <td>158</td>\n",
              "      <td>13.50</td>\n",
              "      <td>5.04</td>\n",
              "      <td>30.79</td>\n",
              "      <td>0</td>\n",
              "      <td>54</td>\n",
              "      <td>24.79</td>\n",
              "      <td>21.50</td>\n",
              "      <td>62</td>\n",
              "      <td>0</td>\n",
              "    </tr>\n",
              "    <tr>\n",
              "      <th>342</th>\n",
              "      <td>138</td>\n",
              "      <td>2.00</td>\n",
              "      <td>5.11</td>\n",
              "      <td>31.40</td>\n",
              "      <td>1</td>\n",
              "      <td>49</td>\n",
              "      <td>27.25</td>\n",
              "      <td>2.06</td>\n",
              "      <td>64</td>\n",
              "      <td>1</td>\n",
              "    </tr>\n",
              "    <tr>\n",
              "      <th>343</th>\n",
              "      <td>130</td>\n",
              "      <td>0.00</td>\n",
              "      <td>4.89</td>\n",
              "      <td>25.98</td>\n",
              "      <td>0</td>\n",
              "      <td>72</td>\n",
              "      <td>30.42</td>\n",
              "      <td>14.71</td>\n",
              "      <td>23</td>\n",
              "      <td>0</td>\n",
              "    </tr>\n",
              "    <tr>\n",
              "      <th>344</th>\n",
              "      <td>174</td>\n",
              "      <td>9.45</td>\n",
              "      <td>5.13</td>\n",
              "      <td>35.54</td>\n",
              "      <td>0</td>\n",
              "      <td>55</td>\n",
              "      <td>30.71</td>\n",
              "      <td>59.79</td>\n",
              "      <td>53</td>\n",
              "      <td>0</td>\n",
              "    </tr>\n",
              "    <tr>\n",
              "      <th>345</th>\n",
              "      <td>132</td>\n",
              "      <td>0.00</td>\n",
              "      <td>1.87</td>\n",
              "      <td>17.21</td>\n",
              "      <td>0</td>\n",
              "      <td>49</td>\n",
              "      <td>23.63</td>\n",
              "      <td>0.97</td>\n",
              "      <td>15</td>\n",
              "      <td>0</td>\n",
              "    </tr>\n",
              "  </tbody>\n",
              "</table>\n",
              "<p>346 rows × 10 columns</p>\n",
              "</div>"
            ],
            "text/plain": [
              "     sbp  tobacco   ldl  adiposity  famhist  typea  obesity  alcohol  age  \\\n",
              "0    154     4.50  4.75      23.52        1     43    25.76     0.00   53   \n",
              "1    124     1.04  2.84      16.42        1     46    20.17     0.00   61   \n",
              "2    148    12.20  3.79      34.15        0     57    26.38    14.40   57   \n",
              "3    110     4.64  4.55      30.46        0     48    30.90    15.22   46   \n",
              "4    164     0.50  6.95      39.64        1     47    41.76     3.81   46   \n",
              "..   ...      ...   ...        ...      ...    ...      ...      ...  ...   \n",
              "341  158    13.50  5.04      30.79        0     54    24.79    21.50   62   \n",
              "342  138     2.00  5.11      31.40        1     49    27.25     2.06   64   \n",
              "343  130     0.00  4.89      25.98        0     72    30.42    14.71   23   \n",
              "344  174     9.45  5.13      35.54        0     55    30.71    59.79   53   \n",
              "345  132     0.00  1.87      17.21        0     49    23.63     0.97   15   \n",
              "\n",
              "     class  \n",
              "0        1  \n",
              "1        0  \n",
              "2        1  \n",
              "3        0  \n",
              "4        1  \n",
              "..     ...  \n",
              "341      0  \n",
              "342      1  \n",
              "343      0  \n",
              "344      0  \n",
              "345      0  \n",
              "\n",
              "[346 rows x 10 columns]"
            ]
          },
          "metadata": {
            "tags": []
          },
          "execution_count": 7
        }
      ]
    },
    {
      "cell_type": "markdown",
      "metadata": {
        "id": "_b2lhTJGuSQS"
      },
      "source": [
        "#### Retiramos los valores con los que se va a predecir"
      ]
    },
    {
      "cell_type": "code",
      "metadata": {
        "id": "lRDEV2r6uSQS",
        "outputId": "7b370baa-4dc3-4b0e-8a30-d8058404b06e"
      },
      "source": [
        "X=datos2.iloc[:,0:9]\n",
        "X.head(4)"
      ],
      "execution_count": null,
      "outputs": [
        {
          "output_type": "execute_result",
          "data": {
            "text/html": [
              "<div>\n",
              "<style scoped>\n",
              "    .dataframe tbody tr th:only-of-type {\n",
              "        vertical-align: middle;\n",
              "    }\n",
              "\n",
              "    .dataframe tbody tr th {\n",
              "        vertical-align: top;\n",
              "    }\n",
              "\n",
              "    .dataframe thead th {\n",
              "        text-align: right;\n",
              "    }\n",
              "</style>\n",
              "<table border=\"1\" class=\"dataframe\">\n",
              "  <thead>\n",
              "    <tr style=\"text-align: right;\">\n",
              "      <th></th>\n",
              "      <th>sbp</th>\n",
              "      <th>tobacco</th>\n",
              "      <th>ldl</th>\n",
              "      <th>adiposity</th>\n",
              "      <th>famhist</th>\n",
              "      <th>typea</th>\n",
              "      <th>obesity</th>\n",
              "      <th>alcohol</th>\n",
              "      <th>age</th>\n",
              "    </tr>\n",
              "  </thead>\n",
              "  <tbody>\n",
              "    <tr>\n",
              "      <th>0</th>\n",
              "      <td>154</td>\n",
              "      <td>4.50</td>\n",
              "      <td>4.75</td>\n",
              "      <td>23.52</td>\n",
              "      <td>1</td>\n",
              "      <td>43</td>\n",
              "      <td>25.76</td>\n",
              "      <td>0.00</td>\n",
              "      <td>53</td>\n",
              "    </tr>\n",
              "    <tr>\n",
              "      <th>1</th>\n",
              "      <td>124</td>\n",
              "      <td>1.04</td>\n",
              "      <td>2.84</td>\n",
              "      <td>16.42</td>\n",
              "      <td>1</td>\n",
              "      <td>46</td>\n",
              "      <td>20.17</td>\n",
              "      <td>0.00</td>\n",
              "      <td>61</td>\n",
              "    </tr>\n",
              "    <tr>\n",
              "      <th>2</th>\n",
              "      <td>148</td>\n",
              "      <td>12.20</td>\n",
              "      <td>3.79</td>\n",
              "      <td>34.15</td>\n",
              "      <td>0</td>\n",
              "      <td>57</td>\n",
              "      <td>26.38</td>\n",
              "      <td>14.40</td>\n",
              "      <td>57</td>\n",
              "    </tr>\n",
              "    <tr>\n",
              "      <th>3</th>\n",
              "      <td>110</td>\n",
              "      <td>4.64</td>\n",
              "      <td>4.55</td>\n",
              "      <td>30.46</td>\n",
              "      <td>0</td>\n",
              "      <td>48</td>\n",
              "      <td>30.90</td>\n",
              "      <td>15.22</td>\n",
              "      <td>46</td>\n",
              "    </tr>\n",
              "  </tbody>\n",
              "</table>\n",
              "</div>"
            ],
            "text/plain": [
              "   sbp  tobacco   ldl  adiposity  famhist  typea  obesity  alcohol  age\n",
              "0  154     4.50  4.75      23.52        1     43    25.76     0.00   53\n",
              "1  124     1.04  2.84      16.42        1     46    20.17     0.00   61\n",
              "2  148    12.20  3.79      34.15        0     57    26.38    14.40   57\n",
              "3  110     4.64  4.55      30.46        0     48    30.90    15.22   46"
            ]
          },
          "metadata": {
            "tags": []
          },
          "execution_count": 8
        }
      ]
    },
    {
      "cell_type": "markdown",
      "metadata": {
        "id": "ze2P62BuuSQT"
      },
      "source": [
        "#### Retiramos el valor a predecir "
      ]
    },
    {
      "cell_type": "code",
      "metadata": {
        "id": "7UkuRZc_uSQT",
        "outputId": "d7cbc8e7-2b10-4369-f77c-84c28ab6b883"
      },
      "source": [
        "y=datos2.iloc[:,9:10]\n",
        "y.head(4)"
      ],
      "execution_count": null,
      "outputs": [
        {
          "output_type": "execute_result",
          "data": {
            "text/html": [
              "<div>\n",
              "<style scoped>\n",
              "    .dataframe tbody tr th:only-of-type {\n",
              "        vertical-align: middle;\n",
              "    }\n",
              "\n",
              "    .dataframe tbody tr th {\n",
              "        vertical-align: top;\n",
              "    }\n",
              "\n",
              "    .dataframe thead th {\n",
              "        text-align: right;\n",
              "    }\n",
              "</style>\n",
              "<table border=\"1\" class=\"dataframe\">\n",
              "  <thead>\n",
              "    <tr style=\"text-align: right;\">\n",
              "      <th></th>\n",
              "      <th>class</th>\n",
              "    </tr>\n",
              "  </thead>\n",
              "  <tbody>\n",
              "    <tr>\n",
              "      <th>0</th>\n",
              "      <td>1</td>\n",
              "    </tr>\n",
              "    <tr>\n",
              "      <th>1</th>\n",
              "      <td>0</td>\n",
              "    </tr>\n",
              "    <tr>\n",
              "      <th>2</th>\n",
              "      <td>1</td>\n",
              "    </tr>\n",
              "    <tr>\n",
              "      <th>3</th>\n",
              "      <td>0</td>\n",
              "    </tr>\n",
              "  </tbody>\n",
              "</table>\n",
              "</div>"
            ],
            "text/plain": [
              "   class\n",
              "0      1\n",
              "1      0\n",
              "2      1\n",
              "3      0"
            ]
          },
          "metadata": {
            "tags": []
          },
          "execution_count": 9
        }
      ]
    },
    {
      "cell_type": "markdown",
      "metadata": {
        "id": "9j_F78UjuSQT"
      },
      "source": [
        "#### Definimos las variables para el Testeo"
      ]
    },
    {
      "cell_type": "code",
      "metadata": {
        "id": "Dxiezy6suSQT"
      },
      "source": [
        "X_train, X_test, y_train, y_test = train_test_split(X, y,test_size=0.09,random_state= 50)"
      ],
      "execution_count": null,
      "outputs": []
    },
    {
      "cell_type": "markdown",
      "metadata": {
        "id": "JGqSQMbhuSQU"
      },
      "source": [
        "#### Importamos el Algoritmo de vecinos mas cercanos"
      ]
    },
    {
      "cell_type": "code",
      "metadata": {
        "id": "f1BRwGbvuSQU"
      },
      "source": [
        "from sklearn.neighbors import KNeighborsClassifier"
      ],
      "execution_count": null,
      "outputs": []
    },
    {
      "cell_type": "markdown",
      "metadata": {
        "id": "JIAPPaukuSQU"
      },
      "source": [
        "#### Mediante el constructor inicializa la instancia bosque\n",
        "\n",
        "##### n_estimators: Número de árboles que va usar"
      ]
    },
    {
      "cell_type": "code",
      "metadata": {
        "id": "FDzjNvVduSQU"
      },
      "source": [
        "modelo_knn=KNeighborsClassifier(n_neighbors = 30, metric = 'minkowski', p = 25, leaf_size = 55, n_jobs=2)"
      ],
      "execution_count": null,
      "outputs": []
    },
    {
      "cell_type": "markdown",
      "metadata": {
        "id": "I-OQhaghuSQV"
      },
      "source": [
        "#### Entrenamos el modelo"
      ]
    },
    {
      "cell_type": "code",
      "metadata": {
        "id": "G2p-_IR_uSQV",
        "outputId": "551b9583-e6e4-4b07-a70d-89318dc630bf"
      },
      "source": [
        "modelo_knn.fit(X_train,np.ravel(np.array(y_train)))"
      ],
      "execution_count": null,
      "outputs": [
        {
          "output_type": "execute_result",
          "data": {
            "text/plain": [
              "KNeighborsClassifier(algorithm='auto', leaf_size=55, metric='minkowski',\n",
              "                     metric_params=None, n_jobs=2, n_neighbors=30, p=25,\n",
              "                     weights='uniform')"
            ]
          },
          "metadata": {
            "tags": []
          },
          "execution_count": 13
        }
      ]
    },
    {
      "cell_type": "markdown",
      "metadata": {
        "id": "mIyKHQlFuSQV"
      },
      "source": [
        "#### Probamos el modelo con una predicción"
      ]
    },
    {
      "cell_type": "code",
      "metadata": {
        "id": "e6msnbt0uSQV"
      },
      "source": [
        "y_pred=modelo_knn.predict(X_test)"
      ],
      "execution_count": null,
      "outputs": []
    },
    {
      "cell_type": "code",
      "metadata": {
        "id": "T1AE4cz0uSQW",
        "outputId": "e696d71e-1762-4418-e2a4-1c79ca76ed6e"
      },
      "source": [
        "pd.DataFrame(y_pred).head(2)"
      ],
      "execution_count": null,
      "outputs": [
        {
          "output_type": "execute_result",
          "data": {
            "text/html": [
              "<div>\n",
              "<style scoped>\n",
              "    .dataframe tbody tr th:only-of-type {\n",
              "        vertical-align: middle;\n",
              "    }\n",
              "\n",
              "    .dataframe tbody tr th {\n",
              "        vertical-align: top;\n",
              "    }\n",
              "\n",
              "    .dataframe thead th {\n",
              "        text-align: right;\n",
              "    }\n",
              "</style>\n",
              "<table border=\"1\" class=\"dataframe\">\n",
              "  <thead>\n",
              "    <tr style=\"text-align: right;\">\n",
              "      <th></th>\n",
              "      <th>0</th>\n",
              "    </tr>\n",
              "  </thead>\n",
              "  <tbody>\n",
              "    <tr>\n",
              "      <th>0</th>\n",
              "      <td>0</td>\n",
              "    </tr>\n",
              "    <tr>\n",
              "      <th>1</th>\n",
              "      <td>0</td>\n",
              "    </tr>\n",
              "  </tbody>\n",
              "</table>\n",
              "</div>"
            ],
            "text/plain": [
              "   0\n",
              "0  0\n",
              "1  0"
            ]
          },
          "metadata": {
            "tags": []
          },
          "execution_count": 15
        }
      ]
    },
    {
      "cell_type": "markdown",
      "metadata": {
        "id": "aYqE-iX-uSQW"
      },
      "source": [
        "#### Imprimimos los valores de Matriz de confusión, Precisión, Error y Precisión por categoría"
      ]
    },
    {
      "cell_type": "code",
      "metadata": {
        "scrolled": true,
        "id": "n_S1biP3uSQW",
        "outputId": "b52a06f2-b14f-4c44-d731-6a37dbec980b"
      },
      "source": [
        "indices=indices_general(metrics.confusion_matrix(y_test,y_pred))\n",
        "for k in indices:\n",
        "    print(\"\\n%s:\\n%s\"%(k,str(indices[k])))"
      ],
      "execution_count": null,
      "outputs": [
        {
          "output_type": "stream",
          "text": [
            "\n",
            "Matriz de Confusión:\n",
            "[[26  0]\n",
            " [ 4  2]]\n",
            "\n",
            "Precision Global:\n",
            "0.875\n",
            "\n",
            "Error Global:\n",
            "0.125\n",
            "\n",
            "Precisión por categoría:\n",
            "     0         1\n",
            "0  1.0  0.333333\n"
          ],
          "name": "stdout"
        }
      ]
    },
    {
      "cell_type": "markdown",
      "metadata": {
        "id": "0lPWHhGHuSQX"
      },
      "source": [
        "#### Imprimimos los promedios"
      ]
    },
    {
      "cell_type": "code",
      "metadata": {
        "id": "0AXrrvE1uSQX",
        "outputId": "ce76f9f6-09f5-48c1-994c-9f2d21993d37"
      },
      "source": [
        "#\n",
        "print(accuracy_score(y_test, y_pred))\n",
        "#\n",
        "print(recall_score(y_test, y_pred, average='macro'))\n",
        "#\n",
        "print(precision_score(y_test, y_pred, average='macro'))\n",
        "#\n",
        "print(f1_score(y_test, y_pred, average='macro'))\n",
        "#\n",
        "print(classification_report(y_test, y_pred))"
      ],
      "execution_count": null,
      "outputs": [
        {
          "output_type": "stream",
          "text": [
            "0.875\n",
            "0.6666666666666666\n",
            "0.9333333333333333\n",
            "0.7142857142857143\n",
            "              precision    recall  f1-score   support\n",
            "\n",
            "           0       0.87      1.00      0.93        26\n",
            "           1       1.00      0.33      0.50         6\n",
            "\n",
            "    accuracy                           0.88        32\n",
            "   macro avg       0.93      0.67      0.71        32\n",
            "weighted avg       0.89      0.88      0.85        32\n",
            "\n"
          ],
          "name": "stdout"
        }
      ]
    },
    {
      "cell_type": "markdown",
      "metadata": {
        "id": "rgGKeOnzuSQX"
      },
      "source": [
        "#### Imprimimos coeficiente Kappa"
      ]
    },
    {
      "cell_type": "code",
      "metadata": {
        "id": "K8MFfE5XuSQX",
        "outputId": "642ebef0-b2a1-41d1-87d2-0a039d4778d2"
      },
      "source": [
        "cohen_kappa_score(y_test,y_pred)"
      ],
      "execution_count": null,
      "outputs": [
        {
          "output_type": "execute_result",
          "data": {
            "text/plain": [
              "0.4482758620689655"
            ]
          },
          "metadata": {
            "tags": []
          },
          "execution_count": 18
        }
      ]
    },
    {
      "cell_type": "markdown",
      "metadata": {
        "id": "mGgxvNtNuSQY"
      },
      "source": [
        "### Curva ROC\n",
        "\n",
        "###### Definimos variables, importamos librerias"
      ]
    },
    {
      "cell_type": "code",
      "metadata": {
        "id": "mgQBaXMGuSQY"
      },
      "source": [
        "from sklearn.preprocessing import LabelEncoder\n",
        "lb_make = LabelEncoder()\n",
        "y_test1 = lb_make.fit_transform(np.ravel(np.array(y_test)))\n",
        "\n",
        "from sklearn.preprocessing import LabelEncoder\n",
        "lb_make = LabelEncoder()\n",
        "y1 = lb_make.fit_transform(np.ravel(np.array(y)))"
      ],
      "execution_count": null,
      "outputs": []
    },
    {
      "cell_type": "code",
      "metadata": {
        "id": "yKyZ6O1ruSQY"
      },
      "source": [
        "from sklearn.metrics import roc_curve, auc\n",
        "import matplotlib.pyplot as plt\n",
        "plt.style.use('ggplot')\n",
        "%matplotlib inline"
      ],
      "execution_count": null,
      "outputs": []
    },
    {
      "cell_type": "code",
      "metadata": {
        "id": "fdQjDT6buSQY"
      },
      "source": [
        "y_predict_probabilities = modelo_knn.predict_proba(X_test)[:,1]\n",
        "fpr, tpr, _ = roc_curve(y_test1, y_predict_probabilities)\n",
        "roc_auc = auc(fpr, tpr)"
      ],
      "execution_count": null,
      "outputs": []
    },
    {
      "cell_type": "code",
      "metadata": {
        "id": "YCGYQDWOuSQZ",
        "outputId": "f851bcb5-7b42-4300-dcbb-615b5464b71b"
      },
      "source": [
        "roc_auc"
      ],
      "execution_count": null,
      "outputs": [
        {
          "output_type": "execute_result",
          "data": {
            "text/plain": [
              "0.9102564102564104"
            ]
          },
          "metadata": {
            "tags": []
          },
          "execution_count": 22
        }
      ]
    },
    {
      "cell_type": "markdown",
      "metadata": {
        "id": "VToac_21uSQZ"
      },
      "source": [
        "#### Graficamos la curva ROC"
      ]
    },
    {
      "cell_type": "code",
      "metadata": {
        "id": "xCJayUsFuSQZ",
        "outputId": "a411534d-1475-483e-d327-021bede8544c"
      },
      "source": [
        "plt.figure()\n",
        "plt.plot(fpr, tpr, color='darkorange',\n",
        "         lw=2, label='ROC curve (area = %0.2f)' % roc_auc)\n",
        "plt.plot([0, 1], [0, 1], color='navy', lw=2, linestyle='--')\n",
        "plt.xlim([0.0, 1.0])\n",
        "plt.ylim([0.0, 1.05])\n",
        "plt.xlabel('False Positive Rate')\n",
        "plt.ylabel('True Positive Rate')\n",
        "plt.title('ROC Curve')\n",
        "plt.legend(loc=\"lower right\")\n",
        "plt.show()"
      ],
      "execution_count": null,
      "outputs": [
        {
          "output_type": "display_data",
          "data": {
            "image/png": "[encoded data removed]",
            "text/plain": [
              "<Figure size 432x288 with 1 Axes>"
            ]
          },
          "metadata": {
            "tags": [],
            "needs_background": "light"
          }
        }
      ]
    },
    {
      "cell_type": "markdown",
      "metadata": {
        "id": "MEGDz839uSQa"
      },
      "source": [
        "### Importar nuevos datos\n",
        "\n",
        "###### Para los valores a predecir el proceso que llevaremos a cabo es el mismo que se ha explicado previamente el cual consiste en: primero importar los valores, luego reemplazar los \"present\" y \"absent\", consumir el modelo ya previamente entrenado, predecir con los nuevos valores y por ultimo exportar los resultados a un archivo de tipo CSV que luego sera subido a Kaggle."
      ]
    },
    {
      "cell_type": "code",
      "metadata": {
        "id": "eCPqlF_-uSQa"
      },
      "source": [
        "datos_nuevas_instancias= pd.read_csv('data/nuevas_instancias_a_predecir.csv',delimiter=';',decimal='.')"
      ],
      "execution_count": null,
      "outputs": []
    },
    {
      "cell_type": "code",
      "metadata": {
        "id": "uY7LQuu2uSQa",
        "outputId": "191b96f2-0fe2-4411-d879-bd19fd898b81"
      },
      "source": [
        "datos_nuevas_instancias.shape"
      ],
      "execution_count": null,
      "outputs": [
        {
          "output_type": "execute_result",
          "data": {
            "text/plain": [
              "(116, 10)"
            ]
          },
          "metadata": {
            "tags": []
          },
          "execution_count": 25
        }
      ]
    },
    {
      "cell_type": "code",
      "metadata": {
        "id": "skWkDWyYuSQa",
        "outputId": "d656ccc0-3d76-4850-c455-67ea8c20df08"
      },
      "source": [
        "datos_nuevas_instancias.head(5)"
      ],
      "execution_count": null,
      "outputs": [
        {
          "output_type": "execute_result",
          "data": {
            "text/html": [
              "<div>\n",
              "<style scoped>\n",
              "    .dataframe tbody tr th:only-of-type {\n",
              "        vertical-align: middle;\n",
              "    }\n",
              "\n",
              "    .dataframe tbody tr th {\n",
              "        vertical-align: top;\n",
              "    }\n",
              "\n",
              "    .dataframe thead th {\n",
              "        text-align: right;\n",
              "    }\n",
              "</style>\n",
              "<table border=\"1\" class=\"dataframe\">\n",
              "  <thead>\n",
              "    <tr style=\"text-align: right;\">\n",
              "      <th></th>\n",
              "      <th>id</th>\n",
              "      <th>sbp</th>\n",
              "      <th>tobacco</th>\n",
              "      <th>ldl</th>\n",
              "      <th>adiposity</th>\n",
              "      <th>famhist</th>\n",
              "      <th>typea</th>\n",
              "      <th>obesity</th>\n",
              "      <th>alcohol</th>\n",
              "      <th>age</th>\n",
              "    </tr>\n",
              "  </thead>\n",
              "  <tbody>\n",
              "    <tr>\n",
              "      <th>0</th>\n",
              "      <td>1</td>\n",
              "      <td>132</td>\n",
              "      <td>0.00</td>\n",
              "      <td>4.17</td>\n",
              "      <td>36.57</td>\n",
              "      <td>Absent</td>\n",
              "      <td>57</td>\n",
              "      <td>30.61</td>\n",
              "      <td>18.00</td>\n",
              "      <td>49</td>\n",
              "    </tr>\n",
              "    <tr>\n",
              "      <th>1</th>\n",
              "      <td>2</td>\n",
              "      <td>124</td>\n",
              "      <td>1.80</td>\n",
              "      <td>3.74</td>\n",
              "      <td>16.64</td>\n",
              "      <td>Present</td>\n",
              "      <td>42</td>\n",
              "      <td>22.26</td>\n",
              "      <td>10.49</td>\n",
              "      <td>20</td>\n",
              "    </tr>\n",
              "    <tr>\n",
              "      <th>2</th>\n",
              "      <td>3</td>\n",
              "      <td>198</td>\n",
              "      <td>0.52</td>\n",
              "      <td>11.89</td>\n",
              "      <td>27.68</td>\n",
              "      <td>Present</td>\n",
              "      <td>48</td>\n",
              "      <td>28.40</td>\n",
              "      <td>78.99</td>\n",
              "      <td>26</td>\n",
              "    </tr>\n",
              "    <tr>\n",
              "      <th>3</th>\n",
              "      <td>4</td>\n",
              "      <td>128</td>\n",
              "      <td>2.24</td>\n",
              "      <td>2.83</td>\n",
              "      <td>26.48</td>\n",
              "      <td>Absent</td>\n",
              "      <td>48</td>\n",
              "      <td>23.96</td>\n",
              "      <td>47.42</td>\n",
              "      <td>27</td>\n",
              "    </tr>\n",
              "    <tr>\n",
              "      <th>4</th>\n",
              "      <td>5</td>\n",
              "      <td>128</td>\n",
              "      <td>2.60</td>\n",
              "      <td>4.94</td>\n",
              "      <td>21.36</td>\n",
              "      <td>Absent</td>\n",
              "      <td>61</td>\n",
              "      <td>21.30</td>\n",
              "      <td>0.00</td>\n",
              "      <td>31</td>\n",
              "    </tr>\n",
              "  </tbody>\n",
              "</table>\n",
              "</div>"
            ],
            "text/plain": [
              "   id  sbp  tobacco    ldl  adiposity  famhist  typea  obesity  alcohol  age\n",
              "0   1  132     0.00   4.17      36.57   Absent     57    30.61    18.00   49\n",
              "1   2  124     1.80   3.74      16.64  Present     42    22.26    10.49   20\n",
              "2   3  198     0.52  11.89      27.68  Present     48    28.40    78.99   26\n",
              "3   4  128     2.24   2.83      26.48   Absent     48    23.96    47.42   27\n",
              "4   5  128     2.60   4.94      21.36   Absent     61    21.30     0.00   31"
            ]
          },
          "metadata": {
            "tags": []
          },
          "execution_count": 26
        }
      ]
    },
    {
      "cell_type": "code",
      "metadata": {
        "scrolled": true,
        "id": "qOagqUasuSQb",
        "outputId": "664b44fc-4e22-4fb1-9233-d4a788d24862"
      },
      "source": [
        "datos_nuevas_instancias2 = datos_nuevas_instancias.replace({\"Present\":1,\"Absent\":0})\n",
        "datos_nuevas_instancias2"
      ],
      "execution_count": null,
      "outputs": [
        {
          "output_type": "execute_result",
          "data": {
            "text/html": [
              "<div>\n",
              "<style scoped>\n",
              "    .dataframe tbody tr th:only-of-type {\n",
              "        vertical-align: middle;\n",
              "    }\n",
              "\n",
              "    .dataframe tbody tr th {\n",
              "        vertical-align: top;\n",
              "    }\n",
              "\n",
              "    .dataframe thead th {\n",
              "        text-align: right;\n",
              "    }\n",
              "</style>\n",
              "<table border=\"1\" class=\"dataframe\">\n",
              "  <thead>\n",
              "    <tr style=\"text-align: right;\">\n",
              "      <th></th>\n",
              "      <th>id</th>\n",
              "      <th>sbp</th>\n",
              "      <th>tobacco</th>\n",
              "      <th>ldl</th>\n",
              "      <th>adiposity</th>\n",
              "      <th>famhist</th>\n",
              "      <th>typea</th>\n",
              "      <th>obesity</th>\n",
              "      <th>alcohol</th>\n",
              "      <th>age</th>\n",
              "    </tr>\n",
              "  </thead>\n",
              "  <tbody>\n",
              "    <tr>\n",
              "      <th>0</th>\n",
              "      <td>1</td>\n",
              "      <td>132</td>\n",
              "      <td>0.00</td>\n",
              "      <td>4.17</td>\n",
              "      <td>36.57</td>\n",
              "      <td>0</td>\n",
              "      <td>57</td>\n",
              "      <td>30.61</td>\n",
              "      <td>18.00</td>\n",
              "      <td>49</td>\n",
              "    </tr>\n",
              "    <tr>\n",
              "      <th>1</th>\n",
              "      <td>2</td>\n",
              "      <td>124</td>\n",
              "      <td>1.80</td>\n",
              "      <td>3.74</td>\n",
              "      <td>16.64</td>\n",
              "      <td>1</td>\n",
              "      <td>42</td>\n",
              "      <td>22.26</td>\n",
              "      <td>10.49</td>\n",
              "      <td>20</td>\n",
              "    </tr>\n",
              "    <tr>\n",
              "      <th>2</th>\n",
              "      <td>3</td>\n",
              "      <td>198</td>\n",
              "      <td>0.52</td>\n",
              "      <td>11.89</td>\n",
              "      <td>27.68</td>\n",
              "      <td>1</td>\n",
              "      <td>48</td>\n",
              "      <td>28.40</td>\n",
              "      <td>78.99</td>\n",
              "      <td>26</td>\n",
              "    </tr>\n",
              "    <tr>\n",
              "      <th>3</th>\n",
              "      <td>4</td>\n",
              "      <td>128</td>\n",
              "      <td>2.24</td>\n",
              "      <td>2.83</td>\n",
              "      <td>26.48</td>\n",
              "      <td>0</td>\n",
              "      <td>48</td>\n",
              "      <td>23.96</td>\n",
              "      <td>47.42</td>\n",
              "      <td>27</td>\n",
              "    </tr>\n",
              "    <tr>\n",
              "      <th>4</th>\n",
              "      <td>5</td>\n",
              "      <td>128</td>\n",
              "      <td>2.60</td>\n",
              "      <td>4.94</td>\n",
              "      <td>21.36</td>\n",
              "      <td>0</td>\n",
              "      <td>61</td>\n",
              "      <td>21.30</td>\n",
              "      <td>0.00</td>\n",
              "      <td>31</td>\n",
              "    </tr>\n",
              "    <tr>\n",
              "      <th>...</th>\n",
              "      <td>...</td>\n",
              "      <td>...</td>\n",
              "      <td>...</td>\n",
              "      <td>...</td>\n",
              "      <td>...</td>\n",
              "      <td>...</td>\n",
              "      <td>...</td>\n",
              "      <td>...</td>\n",
              "      <td>...</td>\n",
              "      <td>...</td>\n",
              "    </tr>\n",
              "    <tr>\n",
              "      <th>111</th>\n",
              "      <td>112</td>\n",
              "      <td>152</td>\n",
              "      <td>12.18</td>\n",
              "      <td>4.04</td>\n",
              "      <td>37.83</td>\n",
              "      <td>1</td>\n",
              "      <td>63</td>\n",
              "      <td>34.57</td>\n",
              "      <td>4.17</td>\n",
              "      <td>64</td>\n",
              "    </tr>\n",
              "    <tr>\n",
              "      <th>112</th>\n",
              "      <td>113</td>\n",
              "      <td>134</td>\n",
              "      <td>6.10</td>\n",
              "      <td>4.77</td>\n",
              "      <td>26.08</td>\n",
              "      <td>0</td>\n",
              "      <td>47</td>\n",
              "      <td>23.82</td>\n",
              "      <td>1.03</td>\n",
              "      <td>49</td>\n",
              "    </tr>\n",
              "    <tr>\n",
              "      <th>113</th>\n",
              "      <td>114</td>\n",
              "      <td>101</td>\n",
              "      <td>0.48</td>\n",
              "      <td>7.26</td>\n",
              "      <td>13.00</td>\n",
              "      <td>0</td>\n",
              "      <td>50</td>\n",
              "      <td>19.82</td>\n",
              "      <td>5.19</td>\n",
              "      <td>16</td>\n",
              "    </tr>\n",
              "    <tr>\n",
              "      <th>114</th>\n",
              "      <td>115</td>\n",
              "      <td>134</td>\n",
              "      <td>1.10</td>\n",
              "      <td>3.54</td>\n",
              "      <td>20.41</td>\n",
              "      <td>1</td>\n",
              "      <td>58</td>\n",
              "      <td>24.54</td>\n",
              "      <td>39.91</td>\n",
              "      <td>39</td>\n",
              "    </tr>\n",
              "    <tr>\n",
              "      <th>115</th>\n",
              "      <td>116</td>\n",
              "      <td>144</td>\n",
              "      <td>2.40</td>\n",
              "      <td>8.13</td>\n",
              "      <td>35.61</td>\n",
              "      <td>0</td>\n",
              "      <td>46</td>\n",
              "      <td>27.38</td>\n",
              "      <td>13.37</td>\n",
              "      <td>60</td>\n",
              "    </tr>\n",
              "  </tbody>\n",
              "</table>\n",
              "<p>116 rows × 10 columns</p>\n",
              "</div>"
            ],
            "text/plain": [
              "      id  sbp  tobacco    ldl  adiposity  famhist  typea  obesity  alcohol  \\\n",
              "0      1  132     0.00   4.17      36.57        0     57    30.61    18.00   \n",
              "1      2  124     1.80   3.74      16.64        1     42    22.26    10.49   \n",
              "2      3  198     0.52  11.89      27.68        1     48    28.40    78.99   \n",
              "3      4  128     2.24   2.83      26.48        0     48    23.96    47.42   \n",
              "4      5  128     2.60   4.94      21.36        0     61    21.30     0.00   \n",
              "..   ...  ...      ...    ...        ...      ...    ...      ...      ...   \n",
              "111  112  152    12.18   4.04      37.83        1     63    34.57     4.17   \n",
              "112  113  134     6.10   4.77      26.08        0     47    23.82     1.03   \n",
              "113  114  101     0.48   7.26      13.00        0     50    19.82     5.19   \n",
              "114  115  134     1.10   3.54      20.41        1     58    24.54    39.91   \n",
              "115  116  144     2.40   8.13      35.61        0     46    27.38    13.37   \n",
              "\n",
              "     age  \n",
              "0     49  \n",
              "1     20  \n",
              "2     26  \n",
              "3     27  \n",
              "4     31  \n",
              "..   ...  \n",
              "111   64  \n",
              "112   49  \n",
              "113   16  \n",
              "114   39  \n",
              "115   60  \n",
              "\n",
              "[116 rows x 10 columns]"
            ]
          },
          "metadata": {
            "tags": []
          },
          "execution_count": 27
        }
      ]
    },
    {
      "cell_type": "code",
      "metadata": {
        "scrolled": true,
        "id": "T0jxTcQOuSQb",
        "outputId": "f3c09477-3847-4076-ceef-b7ea6c4d2388"
      },
      "source": [
        "datos_nuevas_instancias = datos_nuevas_instancias2.iloc[:,1:10]\n",
        "datos_nuevas_instancias"
      ],
      "execution_count": null,
      "outputs": [
        {
          "output_type": "execute_result",
          "data": {
            "text/html": [
              "<div>\n",
              "<style scoped>\n",
              "    .dataframe tbody tr th:only-of-type {\n",
              "        vertical-align: middle;\n",
              "    }\n",
              "\n",
              "    .dataframe tbody tr th {\n",
              "        vertical-align: top;\n",
              "    }\n",
              "\n",
              "    .dataframe thead th {\n",
              "        text-align: right;\n",
              "    }\n",
              "</style>\n",
              "<table border=\"1\" class=\"dataframe\">\n",
              "  <thead>\n",
              "    <tr style=\"text-align: right;\">\n",
              "      <th></th>\n",
              "      <th>sbp</th>\n",
              "      <th>tobacco</th>\n",
              "      <th>ldl</th>\n",
              "      <th>adiposity</th>\n",
              "      <th>famhist</th>\n",
              "      <th>typea</th>\n",
              "      <th>obesity</th>\n",
              "      <th>alcohol</th>\n",
              "      <th>age</th>\n",
              "    </tr>\n",
              "  </thead>\n",
              "  <tbody>\n",
              "    <tr>\n",
              "      <th>0</th>\n",
              "      <td>132</td>\n",
              "      <td>0.00</td>\n",
              "      <td>4.17</td>\n",
              "      <td>36.57</td>\n",
              "      <td>0</td>\n",
              "      <td>57</td>\n",
              "      <td>30.61</td>\n",
              "      <td>18.00</td>\n",
              "      <td>49</td>\n",
              "    </tr>\n",
              "    <tr>\n",
              "      <th>1</th>\n",
              "      <td>124</td>\n",
              "      <td>1.80</td>\n",
              "      <td>3.74</td>\n",
              "      <td>16.64</td>\n",
              "      <td>1</td>\n",
              "      <td>42</td>\n",
              "      <td>22.26</td>\n",
              "      <td>10.49</td>\n",
              "      <td>20</td>\n",
              "    </tr>\n",
              "    <tr>\n",
              "      <th>2</th>\n",
              "      <td>198</td>\n",
              "      <td>0.52</td>\n",
              "      <td>11.89</td>\n",
              "      <td>27.68</td>\n",
              "      <td>1</td>\n",
              "      <td>48</td>\n",
              "      <td>28.40</td>\n",
              "      <td>78.99</td>\n",
              "      <td>26</td>\n",
              "    </tr>\n",
              "    <tr>\n",
              "      <th>3</th>\n",
              "      <td>128</td>\n",
              "      <td>2.24</td>\n",
              "      <td>2.83</td>\n",
              "      <td>26.48</td>\n",
              "      <td>0</td>\n",
              "      <td>48</td>\n",
              "      <td>23.96</td>\n",
              "      <td>47.42</td>\n",
              "      <td>27</td>\n",
              "    </tr>\n",
              "    <tr>\n",
              "      <th>4</th>\n",
              "      <td>128</td>\n",
              "      <td>2.60</td>\n",
              "      <td>4.94</td>\n",
              "      <td>21.36</td>\n",
              "      <td>0</td>\n",
              "      <td>61</td>\n",
              "      <td>21.30</td>\n",
              "      <td>0.00</td>\n",
              "      <td>31</td>\n",
              "    </tr>\n",
              "    <tr>\n",
              "      <th>...</th>\n",
              "      <td>...</td>\n",
              "      <td>...</td>\n",
              "      <td>...</td>\n",
              "      <td>...</td>\n",
              "      <td>...</td>\n",
              "      <td>...</td>\n",
              "      <td>...</td>\n",
              "      <td>...</td>\n",
              "      <td>...</td>\n",
              "    </tr>\n",
              "    <tr>\n",
              "      <th>111</th>\n",
              "      <td>152</td>\n",
              "      <td>12.18</td>\n",
              "      <td>4.04</td>\n",
              "      <td>37.83</td>\n",
              "      <td>1</td>\n",
              "      <td>63</td>\n",
              "      <td>34.57</td>\n",
              "      <td>4.17</td>\n",
              "      <td>64</td>\n",
              "    </tr>\n",
              "    <tr>\n",
              "      <th>112</th>\n",
              "      <td>134</td>\n",
              "      <td>6.10</td>\n",
              "      <td>4.77</td>\n",
              "      <td>26.08</td>\n",
              "      <td>0</td>\n",
              "      <td>47</td>\n",
              "      <td>23.82</td>\n",
              "      <td>1.03</td>\n",
              "      <td>49</td>\n",
              "    </tr>\n",
              "    <tr>\n",
              "      <th>113</th>\n",
              "      <td>101</td>\n",
              "      <td>0.48</td>\n",
              "      <td>7.26</td>\n",
              "      <td>13.00</td>\n",
              "      <td>0</td>\n",
              "      <td>50</td>\n",
              "      <td>19.82</td>\n",
              "      <td>5.19</td>\n",
              "      <td>16</td>\n",
              "    </tr>\n",
              "    <tr>\n",
              "      <th>114</th>\n",
              "      <td>134</td>\n",
              "      <td>1.10</td>\n",
              "      <td>3.54</td>\n",
              "      <td>20.41</td>\n",
              "      <td>1</td>\n",
              "      <td>58</td>\n",
              "      <td>24.54</td>\n",
              "      <td>39.91</td>\n",
              "      <td>39</td>\n",
              "    </tr>\n",
              "    <tr>\n",
              "      <th>115</th>\n",
              "      <td>144</td>\n",
              "      <td>2.40</td>\n",
              "      <td>8.13</td>\n",
              "      <td>35.61</td>\n",
              "      <td>0</td>\n",
              "      <td>46</td>\n",
              "      <td>27.38</td>\n",
              "      <td>13.37</td>\n",
              "      <td>60</td>\n",
              "    </tr>\n",
              "  </tbody>\n",
              "</table>\n",
              "<p>116 rows × 9 columns</p>\n",
              "</div>"
            ],
            "text/plain": [
              "     sbp  tobacco    ldl  adiposity  famhist  typea  obesity  alcohol  age\n",
              "0    132     0.00   4.17      36.57        0     57    30.61    18.00   49\n",
              "1    124     1.80   3.74      16.64        1     42    22.26    10.49   20\n",
              "2    198     0.52  11.89      27.68        1     48    28.40    78.99   26\n",
              "3    128     2.24   2.83      26.48        0     48    23.96    47.42   27\n",
              "4    128     2.60   4.94      21.36        0     61    21.30     0.00   31\n",
              "..   ...      ...    ...        ...      ...    ...      ...      ...  ...\n",
              "111  152    12.18   4.04      37.83        1     63    34.57     4.17   64\n",
              "112  134     6.10   4.77      26.08        0     47    23.82     1.03   49\n",
              "113  101     0.48   7.26      13.00        0     50    19.82     5.19   16\n",
              "114  134     1.10   3.54      20.41        1     58    24.54    39.91   39\n",
              "115  144     2.40   8.13      35.61        0     46    27.38    13.37   60\n",
              "\n",
              "[116 rows x 9 columns]"
            ]
          },
          "metadata": {
            "tags": []
          },
          "execution_count": 28
        }
      ]
    },
    {
      "cell_type": "code",
      "metadata": {
        "id": "60-qHUsbuSQc"
      },
      "source": [
        "prediccion_nuevos_individuos=modelo_knn.predict(datos_nuevas_instancias)\n",
        "datos_clasificados=pd.DataFrame(prediccion_nuevos_individuos)"
      ],
      "execution_count": null,
      "outputs": []
    },
    {
      "cell_type": "code",
      "metadata": {
        "id": "mi8nsTf7uSQc"
      },
      "source": [
        "datos_clasificados.index = datos_clasificados.index + 1"
      ],
      "execution_count": null,
      "outputs": []
    },
    {
      "cell_type": "code",
      "metadata": {
        "id": "3h0p_mVAuSQc"
      },
      "source": [
        "datos_clasificados.index.names = ['id']\n",
        "datos_clasificados.columns = ['Predicted']"
      ],
      "execution_count": null,
      "outputs": []
    },
    {
      "cell_type": "code",
      "metadata": {
        "id": "iY9bGlSHuSQd",
        "outputId": "38f39eb3-a8a3-4cd8-fc7f-1440738f2297"
      },
      "source": [
        "datos_clasificados.columns"
      ],
      "execution_count": null,
      "outputs": [
        {
          "output_type": "execute_result",
          "data": {
            "text/plain": [
              "Index(['Predicted'], dtype='object')"
            ]
          },
          "metadata": {
            "tags": []
          },
          "execution_count": 32
        }
      ]
    },
    {
      "cell_type": "code",
      "metadata": {
        "id": "uowVS0dEuSQd"
      },
      "source": [
        "datos_clasificados.to_csv('datos_a_predecir.csv',sep=',')"
      ],
      "execution_count": null,
      "outputs": []
    }
  ]
}